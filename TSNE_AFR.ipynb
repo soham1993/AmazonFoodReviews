{
 "cells": [
  {
   "cell_type": "code",
   "execution_count": 1,
   "metadata": {},
   "outputs": [
    {
     "name": "stderr",
     "output_type": "stream",
     "text": [
      "C:\\Users\\Soham.Dutta\\AppData\\Local\\Continuum\\anaconda3\\lib\\site-packages\\gensim\\utils.py:1197: UserWarning: detected Windows; aliasing chunkize to chunkize_serial\n",
      "  warnings.warn(\"detected Windows; aliasing chunkize to chunkize_serial\")\n"
     ]
    }
   ],
   "source": [
    "%matplotlib inline\n",
    "import warnings\n",
    "warnings.filterwarnings(\"ignore\")\n",
    "\n",
    "import sqlite3\n",
    "import pandas as pd\n",
    "import numpy as np\n",
    "import nltk\n",
    "import string\n",
    "import matplotlib.pyplot as plt\n",
    "import seaborn as sns\n",
    "from sklearn.feature_extraction.text import TfidfTransformer\n",
    "from sklearn.feature_extraction.text import TfidfVectorizer\n",
    "\n",
    "from sklearn.feature_extraction.text import CountVectorizer\n",
    "from sklearn.metrics import confusion_matrix\n",
    "from sklearn import metrics\n",
    "from sklearn.metrics import roc_curve, auc\n",
    "from nltk.stem.porter import PorterStemmer\n",
    "\n",
    "import re\n",
    "# Tutorial about Python regular expressions: https://pymotw.com/2/re/\n",
    "import string\n",
    "from nltk.corpus import stopwords\n",
    "from nltk.stem import PorterStemmer\n",
    "from nltk.stem.wordnet import WordNetLemmatizer\n",
    "\n",
    "from gensim.models import Word2Vec\n",
    "from gensim.models import KeyedVectors\n",
    "import pickle\n",
    "\n",
    "from tqdm import tqdm\n",
    "import os"
   ]
  },
  {
   "cell_type": "code",
   "execution_count": 2,
   "metadata": {},
   "outputs": [
    {
     "name": "stdout",
     "output_type": "stream",
     "text": [
      "Number of data points in our data (525814, 10)\n",
      "   Id   ProductId          UserId                      ProfileName  \\\n",
      "0   1  B001E4KFG0  A3SGXH7AUHU8GW                       delmartian   \n",
      "1   2  B00813GRG4  A1D87F6ZCVE5NK                           dll pa   \n",
      "2   3  B000LQOCH0   ABXLMWJIXXAIN  Natalia Corres \"Natalia Corres\"   \n",
      "\n",
      "   HelpfulnessNumerator  HelpfulnessDenominator  Score        Time  \\\n",
      "0                     1                       1      1  1303862400   \n",
      "1                     0                       0      0  1346976000   \n",
      "2                     1                       1      1  1219017600   \n",
      "\n",
      "                 Summary                                               Text  \n",
      "0  Good Quality Dog Food  I have bought several of the Vitality canned d...  \n",
      "1      Not as Advertised  Product arrived labeled as Jumbo Salted Peanut...  \n",
      "2  \"Delight\" says it all  This is a confection that has been around a fe...  \n"
     ]
    },
    {
     "data": {
      "text/plain": [
       "\"\\nfiltered_data.head()\\nfiltered_data['Score'] = np.where(filtered_data['Score']<3, 0, 1)\\nfiltered_data['Score'].value_counts()\\nfiltered_data.head()\\n\""
      ]
     },
     "execution_count": 2,
     "metadata": {},
     "output_type": "execute_result"
    }
   ],
   "source": [
    "con=sqlite3.connect('C:/Users/Soham.Dutta/AAIC/Amazon reviews/database.sqlite')\n",
    "filtered_data = pd.read_sql_query(\" SELECT * FROM  Reviews where Score != 3 \", con) \n",
    "# Give reviews with Score>3 a positive rating, and reviews with a score<3 a negative rating.\n",
    "\n",
    "def partition(x):\n",
    "    if x < 3:\n",
    "        return 0\n",
    "    return 1\n",
    "\n",
    "#changing reviews with score less than 3 to be positive and vice-versa\n",
    "actualScore = filtered_data['Score']\n",
    "positiveNegative = actualScore.map(partition) \n",
    "filtered_data['Score'] = positiveNegative\n",
    "print(\"Number of data points in our data\", filtered_data.shape)\n",
    "print(filtered_data.head(3))\n",
    "\n",
    "\n",
    "\"\"\"\n",
    "filtered_data.head()\n",
    "filtered_data['Score'] = np.where(filtered_data['Score']<3, 0, 1)\n",
    "filtered_data['Score'].value_counts()\n",
    "filtered_data.head()\n",
    "\"\"\"\n",
    "\n"
   ]
  },
  {
   "cell_type": "code",
   "execution_count": 3,
   "metadata": {},
   "outputs": [],
   "source": [
    " with open('filtered_data.pkl', 'wb') as f:\n",
    "        pickle.dump(filtered_data, f)"
   ]
  },
  {
   "cell_type": "code",
   "execution_count": 4,
   "metadata": {},
   "outputs": [
    {
     "data": {
      "text/plain": [
       "(2000, 10)"
      ]
     },
     "execution_count": 4,
     "metadata": {},
     "output_type": "execute_result"
    }
   ],
   "source": [
    "#taking 1000 points each of negative and postive reviews\n",
    "filtered_data[\"Score\"].value_counts()\n",
    "filtered_data_0=filtered_data.loc[filtered_data[\"Score\"]==0]\n",
    "filtered_data_1=filtered_data.loc[filtered_data[\"Score\"]==1]\n",
    "filtered_data_0_1000=filtered_data_0.iloc[0:1000,:]\n",
    "\n",
    "filtered_data_1_1000=filtered_data_1.iloc[0:1000,:]\n",
    "\n",
    "filtered_data_f=pd.concat([filtered_data_0_1000,filtered_data_1_1000],axis=0,ignore_index=True)\n",
    "filtered_data_f.shape"
   ]
  },
  {
   "cell_type": "code",
   "execution_count": 5,
   "metadata": {},
   "outputs": [
    {
     "data": {
      "text/html": [
       "<div>\n",
       "<style scoped>\n",
       "    .dataframe tbody tr th:only-of-type {\n",
       "        vertical-align: middle;\n",
       "    }\n",
       "\n",
       "    .dataframe tbody tr th {\n",
       "        vertical-align: top;\n",
       "    }\n",
       "\n",
       "    .dataframe thead th {\n",
       "        text-align: right;\n",
       "    }\n",
       "</style>\n",
       "<table border=\"1\" class=\"dataframe\">\n",
       "  <thead>\n",
       "    <tr style=\"text-align: right;\">\n",
       "      <th></th>\n",
       "      <th>Id</th>\n",
       "      <th>ProductId</th>\n",
       "      <th>UserId</th>\n",
       "      <th>ProfileName</th>\n",
       "      <th>HelpfulnessNumerator</th>\n",
       "      <th>HelpfulnessDenominator</th>\n",
       "      <th>Score</th>\n",
       "      <th>Time</th>\n",
       "      <th>Summary</th>\n",
       "      <th>Text</th>\n",
       "    </tr>\n",
       "  </thead>\n",
       "  <tbody>\n",
       "    <tr>\n",
       "      <th>0</th>\n",
       "      <td>78445</td>\n",
       "      <td>B000HDL1RQ</td>\n",
       "      <td>AR5J8UI46CURR</td>\n",
       "      <td>Geetha Krishnan</td>\n",
       "      <td>2</td>\n",
       "      <td>2</td>\n",
       "      <td>5</td>\n",
       "      <td>1199577600</td>\n",
       "      <td>LOACKER QUADRATINI VANILLA WAFERS</td>\n",
       "      <td>DELICIOUS WAFERS. I FIND THAT EUROPEAN WAFERS ...</td>\n",
       "    </tr>\n",
       "    <tr>\n",
       "      <th>1</th>\n",
       "      <td>138317</td>\n",
       "      <td>B000HDOPYC</td>\n",
       "      <td>AR5J8UI46CURR</td>\n",
       "      <td>Geetha Krishnan</td>\n",
       "      <td>2</td>\n",
       "      <td>2</td>\n",
       "      <td>5</td>\n",
       "      <td>1199577600</td>\n",
       "      <td>LOACKER QUADRATINI VANILLA WAFERS</td>\n",
       "      <td>DELICIOUS WAFERS. I FIND THAT EUROPEAN WAFERS ...</td>\n",
       "    </tr>\n",
       "    <tr>\n",
       "      <th>2</th>\n",
       "      <td>138277</td>\n",
       "      <td>B000HDOPYM</td>\n",
       "      <td>AR5J8UI46CURR</td>\n",
       "      <td>Geetha Krishnan</td>\n",
       "      <td>2</td>\n",
       "      <td>2</td>\n",
       "      <td>5</td>\n",
       "      <td>1199577600</td>\n",
       "      <td>LOACKER QUADRATINI VANILLA WAFERS</td>\n",
       "      <td>DELICIOUS WAFERS. I FIND THAT EUROPEAN WAFERS ...</td>\n",
       "    </tr>\n",
       "    <tr>\n",
       "      <th>3</th>\n",
       "      <td>73791</td>\n",
       "      <td>B000HDOPZG</td>\n",
       "      <td>AR5J8UI46CURR</td>\n",
       "      <td>Geetha Krishnan</td>\n",
       "      <td>2</td>\n",
       "      <td>2</td>\n",
       "      <td>5</td>\n",
       "      <td>1199577600</td>\n",
       "      <td>LOACKER QUADRATINI VANILLA WAFERS</td>\n",
       "      <td>DELICIOUS WAFERS. I FIND THAT EUROPEAN WAFERS ...</td>\n",
       "    </tr>\n",
       "    <tr>\n",
       "      <th>4</th>\n",
       "      <td>155049</td>\n",
       "      <td>B000PAQ75C</td>\n",
       "      <td>AR5J8UI46CURR</td>\n",
       "      <td>Geetha Krishnan</td>\n",
       "      <td>2</td>\n",
       "      <td>2</td>\n",
       "      <td>5</td>\n",
       "      <td>1199577600</td>\n",
       "      <td>LOACKER QUADRATINI VANILLA WAFERS</td>\n",
       "      <td>DELICIOUS WAFERS. I FIND THAT EUROPEAN WAFERS ...</td>\n",
       "    </tr>\n",
       "  </tbody>\n",
       "</table>\n",
       "</div>"
      ],
      "text/plain": [
       "       Id   ProductId         UserId      ProfileName  HelpfulnessNumerator  \\\n",
       "0   78445  B000HDL1RQ  AR5J8UI46CURR  Geetha Krishnan                     2   \n",
       "1  138317  B000HDOPYC  AR5J8UI46CURR  Geetha Krishnan                     2   \n",
       "2  138277  B000HDOPYM  AR5J8UI46CURR  Geetha Krishnan                     2   \n",
       "3   73791  B000HDOPZG  AR5J8UI46CURR  Geetha Krishnan                     2   \n",
       "4  155049  B000PAQ75C  AR5J8UI46CURR  Geetha Krishnan                     2   \n",
       "\n",
       "   HelpfulnessDenominator  Score        Time  \\\n",
       "0                       2      5  1199577600   \n",
       "1                       2      5  1199577600   \n",
       "2                       2      5  1199577600   \n",
       "3                       2      5  1199577600   \n",
       "4                       2      5  1199577600   \n",
       "\n",
       "                             Summary  \\\n",
       "0  LOACKER QUADRATINI VANILLA WAFERS   \n",
       "1  LOACKER QUADRATINI VANILLA WAFERS   \n",
       "2  LOACKER QUADRATINI VANILLA WAFERS   \n",
       "3  LOACKER QUADRATINI VANILLA WAFERS   \n",
       "4  LOACKER QUADRATINI VANILLA WAFERS   \n",
       "\n",
       "                                                Text  \n",
       "0  DELICIOUS WAFERS. I FIND THAT EUROPEAN WAFERS ...  \n",
       "1  DELICIOUS WAFERS. I FIND THAT EUROPEAN WAFERS ...  \n",
       "2  DELICIOUS WAFERS. I FIND THAT EUROPEAN WAFERS ...  \n",
       "3  DELICIOUS WAFERS. I FIND THAT EUROPEAN WAFERS ...  \n",
       "4  DELICIOUS WAFERS. I FIND THAT EUROPEAN WAFERS ...  "
      ]
     },
     "execution_count": 5,
     "metadata": {},
     "output_type": "execute_result"
    }
   ],
   "source": [
    "display= pd.read_sql_query(\"\"\"\n",
    "SELECT *\n",
    "FROM Reviews\n",
    "WHERE Score != 3 AND UserId=\"AR5J8UI46CURR\"\n",
    "ORDER BY ProductID\n",
    "\"\"\", con)\n",
    "display.head()"
   ]
  },
  {
   "cell_type": "markdown",
   "metadata": {},
   "source": [
    "As can be seen above the same user has multiple reviews of the with the same values for HelpfulnessNumerator, HelpfulnessDenominator, Score, Time, Summary and Text and on doing analysis it was found that \n",
    "\n",
    "ProductId=B000HDOPZG was Loacker Quadratini Vanilla Wafer Cookies, 8.82-Ounce Packages (Pack of 8)\n",
    "\n",
    "ProductId=B000HDL1RQ was Loacker Quadratini Lemon Wafer Cookies, 8.82-Ounce Packages (Pack of 8) and so on\n",
    "It was inferred after analysis that reviews with same parameters other than ProductId belonged to the same product just having different flavour or quantity. Hence in order to reduce redundancy it was decided to eliminate the rows having same parameters.\n",
    "The method used for the same was that we first sort the data according to ProductId and then just keep the first similar product review and delelte the others. for eg. in the above just the review for ProductId=B000HDL1RQ remains. This method ensures that there is only one representative for each product and deduplication without sorting would lead to possibility of different representatives still existing for the same product."
   ]
  },
  {
   "cell_type": "code",
   "execution_count": 6,
   "metadata": {},
   "outputs": [],
   "source": [
    "#Sorting data according to ProductId in ascending order\n",
    "sorted_data=filtered_data_f.sort_values('ProductId', axis=0, ascending=True, inplace=False, kind='quicksort', na_position='last')"
   ]
  },
  {
   "cell_type": "code",
   "execution_count": 7,
   "metadata": {},
   "outputs": [
    {
     "data": {
      "text/html": [
       "<div>\n",
       "<style scoped>\n",
       "    .dataframe tbody tr th:only-of-type {\n",
       "        vertical-align: middle;\n",
       "    }\n",
       "\n",
       "    .dataframe tbody tr th {\n",
       "        vertical-align: top;\n",
       "    }\n",
       "\n",
       "    .dataframe thead th {\n",
       "        text-align: right;\n",
       "    }\n",
       "</style>\n",
       "<table border=\"1\" class=\"dataframe\">\n",
       "  <thead>\n",
       "    <tr style=\"text-align: right;\">\n",
       "      <th></th>\n",
       "      <th>Id</th>\n",
       "      <th>ProductId</th>\n",
       "      <th>UserId</th>\n",
       "      <th>ProfileName</th>\n",
       "      <th>HelpfulnessNumerator</th>\n",
       "      <th>HelpfulnessDenominator</th>\n",
       "      <th>Score</th>\n",
       "      <th>Time</th>\n",
       "      <th>Summary</th>\n",
       "      <th>Text</th>\n",
       "    </tr>\n",
       "  </thead>\n",
       "  <tbody>\n",
       "    <tr>\n",
       "      <th>1956</th>\n",
       "      <td>1244</td>\n",
       "      <td>B00002Z754</td>\n",
       "      <td>A3B8RCEI0FXFI6</td>\n",
       "      <td>B G Chase</td>\n",
       "      <td>10</td>\n",
       "      <td>10</td>\n",
       "      <td>1</td>\n",
       "      <td>962236800</td>\n",
       "      <td>WOW Make your own 'slickers' !</td>\n",
       "      <td>I just received my shipment and could hardly w...</td>\n",
       "    </tr>\n",
       "    <tr>\n",
       "      <th>1957</th>\n",
       "      <td>1245</td>\n",
       "      <td>B00002Z754</td>\n",
       "      <td>A29Z5PI9BW2PU3</td>\n",
       "      <td>Robbie</td>\n",
       "      <td>7</td>\n",
       "      <td>7</td>\n",
       "      <td>1</td>\n",
       "      <td>961718400</td>\n",
       "      <td>Great Product</td>\n",
       "      <td>This was a really good idea and the final prod...</td>\n",
       "    </tr>\n",
       "    <tr>\n",
       "      <th>1895</th>\n",
       "      <td>1161</td>\n",
       "      <td>B000084E1U</td>\n",
       "      <td>A3DH85EYHW4AQH</td>\n",
       "      <td>Eric Hochman</td>\n",
       "      <td>1</td>\n",
       "      <td>1</td>\n",
       "      <td>1</td>\n",
       "      <td>1140739200</td>\n",
       "      <td>Cats love it!</td>\n",
       "      <td>I have nine cats and they are crazy about thes...</td>\n",
       "    </tr>\n",
       "    <tr>\n",
       "      <th>948</th>\n",
       "      <td>6386</td>\n",
       "      <td>B000084EK9</td>\n",
       "      <td>A1Z54EM24Y40LL</td>\n",
       "      <td>c2</td>\n",
       "      <td>0</td>\n",
       "      <td>0</td>\n",
       "      <td>0</td>\n",
       "      <td>1090972800</td>\n",
       "      <td>This stuff is bad!</td>\n",
       "      <td>I honestly have to say that I just won't buy t...</td>\n",
       "    </tr>\n",
       "    <tr>\n",
       "      <th>946</th>\n",
       "      <td>6376</td>\n",
       "      <td>B000084EKD</td>\n",
       "      <td>A1Z54EM24Y40LL</td>\n",
       "      <td>c2</td>\n",
       "      <td>1</td>\n",
       "      <td>1</td>\n",
       "      <td>0</td>\n",
       "      <td>1090972800</td>\n",
       "      <td>Needs improved</td>\n",
       "      <td>I haven't had a cat yet that liked this one.  ...</td>\n",
       "    </tr>\n",
       "  </tbody>\n",
       "</table>\n",
       "</div>"
      ],
      "text/plain": [
       "        Id   ProductId          UserId   ProfileName  HelpfulnessNumerator  \\\n",
       "1956  1244  B00002Z754  A3B8RCEI0FXFI6     B G Chase                    10   \n",
       "1957  1245  B00002Z754  A29Z5PI9BW2PU3        Robbie                     7   \n",
       "1895  1161  B000084E1U  A3DH85EYHW4AQH  Eric Hochman                     1   \n",
       "948   6386  B000084EK9  A1Z54EM24Y40LL            c2                     0   \n",
       "946   6376  B000084EKD  A1Z54EM24Y40LL            c2                     1   \n",
       "\n",
       "      HelpfulnessDenominator  Score        Time  \\\n",
       "1956                      10      1   962236800   \n",
       "1957                       7      1   961718400   \n",
       "1895                       1      1  1140739200   \n",
       "948                        0      0  1090972800   \n",
       "946                        1      0  1090972800   \n",
       "\n",
       "                             Summary  \\\n",
       "1956  WOW Make your own 'slickers' !   \n",
       "1957                   Great Product   \n",
       "1895                   Cats love it!   \n",
       "948               This stuff is bad!   \n",
       "946                   Needs improved   \n",
       "\n",
       "                                                   Text  \n",
       "1956  I just received my shipment and could hardly w...  \n",
       "1957  This was a really good idea and the final prod...  \n",
       "1895  I have nine cats and they are crazy about thes...  \n",
       "948   I honestly have to say that I just won't buy t...  \n",
       "946   I haven't had a cat yet that liked this one.  ...  "
      ]
     },
     "execution_count": 7,
     "metadata": {},
     "output_type": "execute_result"
    }
   ],
   "source": [
    "#Deduplication of entries\n",
    "final=sorted_data.drop_duplicates(subset={\"UserId\",\"ProfileName\",\"Time\",\"Text\"}, keep='first', inplace=False)\n",
    "final.head()"
   ]
  },
  {
   "cell_type": "code",
   "execution_count": 8,
   "metadata": {},
   "outputs": [
    {
     "data": {
      "text/html": [
       "<div>\n",
       "<style scoped>\n",
       "    .dataframe tbody tr th:only-of-type {\n",
       "        vertical-align: middle;\n",
       "    }\n",
       "\n",
       "    .dataframe tbody tr th {\n",
       "        vertical-align: top;\n",
       "    }\n",
       "\n",
       "    .dataframe thead th {\n",
       "        text-align: right;\n",
       "    }\n",
       "</style>\n",
       "<table border=\"1\" class=\"dataframe\">\n",
       "  <thead>\n",
       "    <tr style=\"text-align: right;\">\n",
       "      <th></th>\n",
       "      <th>Id</th>\n",
       "      <th>ProductId</th>\n",
       "      <th>UserId</th>\n",
       "      <th>ProfileName</th>\n",
       "      <th>HelpfulnessNumerator</th>\n",
       "      <th>HelpfulnessDenominator</th>\n",
       "      <th>Score</th>\n",
       "      <th>Time</th>\n",
       "      <th>Summary</th>\n",
       "      <th>Text</th>\n",
       "    </tr>\n",
       "  </thead>\n",
       "  <tbody>\n",
       "    <tr>\n",
       "      <th>0</th>\n",
       "      <td>64422</td>\n",
       "      <td>B000MIDROQ</td>\n",
       "      <td>A161DK06JJMCYF</td>\n",
       "      <td>J. E. Stephens \"Jeanne\"</td>\n",
       "      <td>3</td>\n",
       "      <td>1</td>\n",
       "      <td>5</td>\n",
       "      <td>1224892800</td>\n",
       "      <td>Bought This for My Son at College</td>\n",
       "      <td>My son loves spaghetti so I didn't hesitate or...</td>\n",
       "    </tr>\n",
       "    <tr>\n",
       "      <th>1</th>\n",
       "      <td>44737</td>\n",
       "      <td>B001EQ55RW</td>\n",
       "      <td>A2V0I904FH7ABY</td>\n",
       "      <td>Ram</td>\n",
       "      <td>3</td>\n",
       "      <td>2</td>\n",
       "      <td>4</td>\n",
       "      <td>1212883200</td>\n",
       "      <td>Pure cocoa taste with crunchy almonds inside</td>\n",
       "      <td>It was almost a 'love at first bite' - the per...</td>\n",
       "    </tr>\n",
       "  </tbody>\n",
       "</table>\n",
       "</div>"
      ],
      "text/plain": [
       "      Id   ProductId          UserId              ProfileName  \\\n",
       "0  64422  B000MIDROQ  A161DK06JJMCYF  J. E. Stephens \"Jeanne\"   \n",
       "1  44737  B001EQ55RW  A2V0I904FH7ABY                      Ram   \n",
       "\n",
       "   HelpfulnessNumerator  HelpfulnessDenominator  Score        Time  \\\n",
       "0                     3                       1      5  1224892800   \n",
       "1                     3                       2      4  1212883200   \n",
       "\n",
       "                                        Summary  \\\n",
       "0             Bought This for My Son at College   \n",
       "1  Pure cocoa taste with crunchy almonds inside   \n",
       "\n",
       "                                                Text  \n",
       "0  My son loves spaghetti so I didn't hesitate or...  \n",
       "1  It was almost a 'love at first bite' - the per...  "
      ]
     },
     "execution_count": 8,
     "metadata": {},
     "output_type": "execute_result"
    }
   ],
   "source": [
    "display= pd.read_sql_query(\"\"\"\n",
    "SELECT *\n",
    "FROM Reviews\n",
    "WHERE Score != 3 AND Id=44737 OR Id=64422\n",
    "ORDER BY ProductID\n",
    "\"\"\", con)\n",
    "display.head()"
   ]
  },
  {
   "cell_type": "code",
   "execution_count": 9,
   "metadata": {},
   "outputs": [
    {
     "name": "stdout",
     "output_type": "stream",
     "text": [
      "(1991, 10)\n"
     ]
    },
    {
     "data": {
      "text/plain": [
       "1    998\n",
       "0    993\n",
       "Name: Score, dtype: int64"
      ]
     },
     "execution_count": 9,
     "metadata": {},
     "output_type": "execute_result"
    }
   ],
   "source": [
    "final=final[final.HelpfulnessNumerator<=final.HelpfulnessDenominator]\n",
    "#Before starting the next phase of preprocessing lets see the number of entries left\n",
    "print(final.shape)\n",
    "\n",
    "#How many positive and negative reviews are present in our dataset?\n",
    "final['Score'].value_counts()"
   ]
  },
  {
   "cell_type": "code",
   "execution_count": null,
   "metadata": {},
   "outputs": [],
   "source": [
    "#BoW\n",
    "count_vect = CountVectorizer() #in scikit-learn\n",
    "final_counts = count_vect.fit_transform(final['Text'].values)\n",
    "print(\"the type of count vectorizer \",type(final_counts))\n",
    "print(\"the shape of out text BOW vectorizer \",final_counts.get_shape())\n",
    "print(\"the number of unique words \", final_counts.get_shape()[1])\n"
   ]
  },
  {
   "cell_type": "markdown",
   "metadata": {},
   "source": [
    "Now that we have finished deduplication our data requires some preprocessing before we go on further with analysis and making the prediction model.\n",
    "Hence in the Preprocessing phase we do the following in the order below:-\n",
    "Begin by removing the html tags\n",
    "Remove any punctuations or limited set of special characters like , or . or # etc.\n",
    "Check if the word is made up of english letters and is not alpha-numeric\n",
    "Check to see if the length of the word is greater than 2 (as it was researched that there is no adjective in 2-letters)\n",
    "Convert the word to lowercase\n",
    "Remove Stopwords\n",
    "Finally Snowball Stemming the word (it was obsereved to be better than Porter Stemming)\n",
    "After which we collect the words used to describe positive and negative reviews"
   ]
  },
  {
   "cell_type": "code",
   "execution_count": 10,
   "metadata": {},
   "outputs": [
    {
     "name": "stdout",
     "output_type": "stream",
     "text": [
      "7\n",
      "I bought this dog food because the bag showed pictured of veggies and chunks of meat, and with a name like \"Beneful\" I thought I was purchasing a nutritious brand of dog food. My dogs did eat this food, but after reading the ingredients I completely regret purchasing it and feel just awful for feeding it to my dogs. The first three ingredients are Ground yellow corn, chicken by-product meal, and corn gluten meal. How disgusting is that?! The main ingredient is a corn filler. One thing my vet told me a while back that I never forgot: \"When you eat corn, what comes out of the other end? The same thing happens with dogs.\" Basically, dogs cannot digest corn, it is just a filler and causes them to actually eat more to feel full, poop out more, and retain less nutrients. The only meat in Beneful at all is a by-product, its not even a real meat! By-products are the stuff leftover once all the actual meat is harvested. We're talking beaks, chicken feet, eyeballs, even chicken poop! I would not recommend this product to anyone, for any reason, ever. It is an absolutely awful dog food. I can't believe the pictures of veggies and full chunks of meat on the bag can be allowed to be on the packaging of such a disgusting product; it is very misleading and should be considered false advertising.<br /><br />I recommend to stay far away from Beneful, and most Purina products. When purchasing a dog (or cat) food, the most important thing to consider is the first 3 ingredients; just make sure those first three are decent ingredients that you would eat yourself. Now that I know what to look for, I usually buy my pets all natural, organic foods such as Blue Buffalo, Halo or Wellness.\n"
     ]
    }
   ],
   "source": [
    "# find sentences containing HTML tags\n",
    "import re\n",
    "i=0;\n",
    "for sent in final['Text'].values:\n",
    "    if (len(re.findall('<.*?>', sent))):\n",
    "        print(i)\n",
    "        print(sent)\n",
    "        break;\n",
    "    i += 1;"
   ]
  },
  {
   "cell_type": "code",
   "execution_count": 11,
   "metadata": {},
   "outputs": [
    {
     "name": "stdout",
     "output_type": "stream",
     "text": [
      "[nltk_data] Error loading stopwords: <urlopen error [Errno 11001]\n",
      "[nltk_data]     getaddrinfo failed>\n",
      "{'ma', 'itself', 'yourselves', 'was', 'off', 'ourselves', 'between', 'having', 'their', 'other', 'after', 'yours', 'very', 'has', \"needn't\", 'it', 'some', 'which', \"aren't\", 'isn', 'in', 'those', 'can', 'needn', 'is', 'them', 'm', 'your', 'as', 'to', 'who', 'once', 'be', 'd', 'me', 'whom', 'until', 'above', 'nor', 'been', 'such', 'again', 'about', 'where', 'herself', 'our', 'did', 'over', 'hasn', 'were', 'does', 'own', \"won't\", \"shouldn't\", \"she's\", 'had', 'just', \"you've\", 'doing', 'further', 'what', 'an', 'myself', \"wouldn't\", \"hadn't\", 'why', 'under', 'each', 'this', 'any', 'ain', 'my', 't', 'her', 'against', 'don', 'he', 'while', 'down', 'hers', 'no', 'only', 'but', 'on', 'that', 'out', 's', 'wasn', 'not', 'haven', 'are', 'how', 'o', 'y', 'more', 'few', 'both', \"hasn't\", 'these', \"isn't\", 'or', 'wouldn', \"you'd\", 'if', 'hadn', 'themselves', \"don't\", \"you're\", 'and', 'below', 'through', 'aren', \"it's\", \"mightn't\", \"haven't\", 'mightn', 'couldn', \"shan't\", 'by', 'yourself', 'most', 'll', 'won', 'here', 'when', 'same', 'him', 're', \"should've\", 'doesn', 'shan', 'she', 'should', 'the', 'during', 'than', 'have', 'so', \"mustn't\", 'before', 'of', 'ours', 'too', 've', 'i', 'didn', 'its', 'they', 'with', 'you', 'into', 'mustn', 'we', 'at', 'there', 'weren', \"doesn't\", 'then', \"that'll\", 'do', 'being', 'will', 'because', 'shouldn', 'from', \"couldn't\", \"weren't\", 'himself', 'theirs', 'now', \"wasn't\", \"didn't\", 'am', 'a', 'up', 'all', 'his', \"you'll\", 'for'}\n",
      "************************************\n",
      "sleep\n"
     ]
    }
   ],
   "source": [
    "import nltk\n",
    "nltk.download('stopwords')\n",
    "\n",
    "\n",
    "stop=set(stopwords.words('english')) #set of stopwords\n",
    "sno = nltk.stem.SnowballStemmer('english')  #initialzing the snowball stemmer\n",
    "def cleanhtml(sentence): #function to clean the word of any html-tags\n",
    "    cleanr = re.compile('<.*?>')\n",
    "    cleantext = re.sub(cleanr, ' ', sentence)\n",
    "    return cleantext\n",
    "def cleanpunc(sentence): #function to clean the word of any punctuation or special characters\n",
    "    cleaned = re.sub(r'[?|!|\\'|\"|#]',r'',sentence)\n",
    "    cleaned = re.sub(r'[.|,|)|(|\\|/]',r' ',cleaned)\n",
    "    return  cleaned\n",
    "print(stop)\n",
    "print('************************************')\n",
    "print(sno.stem('sleeping'))"
   ]
  },
  {
   "cell_type": "code",
   "execution_count": 12,
   "metadata": {},
   "outputs": [
    {
     "name": "stderr",
     "output_type": "stream",
     "text": [
      "100%|██████████| 1991/1991 [00:02<00:00, 885.08it/s]\n"
     ]
    }
   ],
   "source": [
    "#Code for implementing step-by-step the checks mentioned in the pre-processing phase\n",
    "# this code takes a while to run as it needs to run on 500k sentences.\n",
    "if  os.path.isfile('C:/Users/Soham.Dutta/AAIC/Amazon reviews/database.sqlite'):\n",
    "    final_string=[]\n",
    "    all_positive_words=[] # store words from +ve reviews here\n",
    "    all_negative_words=[] # store words from -ve reviews here.\n",
    "    for i, sent in enumerate(tqdm(final['Text'].values)):\n",
    "        filtered_sentence=[]\n",
    "        #print(sent);\n",
    "        sent=cleanhtml(sent) # remove HTMl tags\n",
    "        for w in sent.split():\n",
    "            # we have used cleanpunc(w).split(), one more split function here because consider w=\"abc.def\", cleanpunc(w) will return \"abc def\"\n",
    "            # if we dont use .split() function then we will be considring \"abc def\" as a single word, but if you use .split() function we will get \"abc\", \"def\"\n",
    "            for cleaned_words in cleanpunc(w).split():\n",
    "                if((cleaned_words.isalpha()) & (len(cleaned_words)>2)):    \n",
    "                    if(cleaned_words.lower() not in stop):\n",
    "                        s=(sno.stem(cleaned_words.lower())).encode('utf8')\n",
    "                        filtered_sentence.append(s)\n",
    "                        if (final['Score'].values)[i] == 1: \n",
    "                            all_positive_words.append(s) #list of all words used to describe positive reviews\n",
    "                        if(final['Score'].values)[i] == 0:\n",
    "                            all_negative_words.append(s) #list of all words used to describe negative reviews reviews\n",
    "        str1 = b\" \".join(filtered_sentence) #final string of cleaned words\n",
    "        #print(\"***********************************************************************\")\n",
    "        final_string.append(str1)\n",
    "\n",
    "    #############---- storing the data into .sqlite file ------########################\n",
    "    final['CleanedText']=final_string #adding a column of CleanedText which displays the data after pre-processing of the review \n",
    "    final['CleanedText']=final['CleanedText'].str.decode(\"utf-8\")\n",
    "        # store final table into an SQlLite table for future.\n",
    "    conn = sqlite3.connect('C:/Users/Soham.Dutta/AAIC/Amazon reviews/database.sqlite')\n",
    "    c=conn.cursor()\n",
    "    conn.text_factory = str\n",
    "    final.to_sql('Reviews', conn,  schema=None, if_exists='replace', \\\n",
    "                 index=True, index_label=None, chunksize=None, dtype=None)\n",
    "    conn.close()\n",
    "    \n",
    "    \n",
    "    with open('positive_words.pkl', 'wb') as f:\n",
    "        pickle.dump(all_positive_words, f)\n",
    "    with open('negitive_words.pkl', 'wb') as f:\n",
    "       pickle.dump(all_negative_words, f)\n"
   ]
  },
  {
   "cell_type": "code",
   "execution_count": 13,
   "metadata": {},
   "outputs": [
    {
     "data": {
      "text/html": [
       "<div>\n",
       "<style scoped>\n",
       "    .dataframe tbody tr th:only-of-type {\n",
       "        vertical-align: middle;\n",
       "    }\n",
       "\n",
       "    .dataframe tbody tr th {\n",
       "        vertical-align: top;\n",
       "    }\n",
       "\n",
       "    .dataframe thead th {\n",
       "        text-align: right;\n",
       "    }\n",
       "</style>\n",
       "<table border=\"1\" class=\"dataframe\">\n",
       "  <thead>\n",
       "    <tr style=\"text-align: right;\">\n",
       "      <th></th>\n",
       "      <th>Id</th>\n",
       "      <th>ProductId</th>\n",
       "      <th>UserId</th>\n",
       "      <th>ProfileName</th>\n",
       "      <th>HelpfulnessNumerator</th>\n",
       "      <th>HelpfulnessDenominator</th>\n",
       "      <th>Score</th>\n",
       "      <th>Time</th>\n",
       "      <th>Summary</th>\n",
       "      <th>Text</th>\n",
       "      <th>CleanedText</th>\n",
       "    </tr>\n",
       "  </thead>\n",
       "  <tbody>\n",
       "    <tr>\n",
       "      <th>1956</th>\n",
       "      <td>1244</td>\n",
       "      <td>B00002Z754</td>\n",
       "      <td>A3B8RCEI0FXFI6</td>\n",
       "      <td>B G Chase</td>\n",
       "      <td>10</td>\n",
       "      <td>10</td>\n",
       "      <td>1</td>\n",
       "      <td>962236800</td>\n",
       "      <td>WOW Make your own 'slickers' !</td>\n",
       "      <td>I just received my shipment and could hardly w...</td>\n",
       "      <td>receiv shipment could hard wait tri product lo...</td>\n",
       "    </tr>\n",
       "    <tr>\n",
       "      <th>1957</th>\n",
       "      <td>1245</td>\n",
       "      <td>B00002Z754</td>\n",
       "      <td>A29Z5PI9BW2PU3</td>\n",
       "      <td>Robbie</td>\n",
       "      <td>7</td>\n",
       "      <td>7</td>\n",
       "      <td>1</td>\n",
       "      <td>961718400</td>\n",
       "      <td>Great Product</td>\n",
       "      <td>This was a really good idea and the final prod...</td>\n",
       "      <td>realli good idea final product outstand use de...</td>\n",
       "    </tr>\n",
       "    <tr>\n",
       "      <th>1895</th>\n",
       "      <td>1161</td>\n",
       "      <td>B000084E1U</td>\n",
       "      <td>A3DH85EYHW4AQH</td>\n",
       "      <td>Eric Hochman</td>\n",
       "      <td>1</td>\n",
       "      <td>1</td>\n",
       "      <td>1</td>\n",
       "      <td>1140739200</td>\n",
       "      <td>Cats love it!</td>\n",
       "      <td>I have nine cats and they are crazy about thes...</td>\n",
       "      <td>nine cat crazi kibbl last thing want cat food ...</td>\n",
       "    </tr>\n",
       "    <tr>\n",
       "      <th>948</th>\n",
       "      <td>6386</td>\n",
       "      <td>B000084EK9</td>\n",
       "      <td>A1Z54EM24Y40LL</td>\n",
       "      <td>c2</td>\n",
       "      <td>0</td>\n",
       "      <td>0</td>\n",
       "      <td>0</td>\n",
       "      <td>1090972800</td>\n",
       "      <td>This stuff is bad!</td>\n",
       "      <td>I honestly have to say that I just won't buy t...</td>\n",
       "      <td>honest say wont buy varieti look bad smell bad...</td>\n",
       "    </tr>\n",
       "    <tr>\n",
       "      <th>946</th>\n",
       "      <td>6376</td>\n",
       "      <td>B000084EKD</td>\n",
       "      <td>A1Z54EM24Y40LL</td>\n",
       "      <td>c2</td>\n",
       "      <td>1</td>\n",
       "      <td>1</td>\n",
       "      <td>0</td>\n",
       "      <td>1090972800</td>\n",
       "      <td>Needs improved</td>\n",
       "      <td>I haven't had a cat yet that liked this one.  ...</td>\n",
       "      <td>havent cat yet like one littl interest think s...</td>\n",
       "    </tr>\n",
       "  </tbody>\n",
       "</table>\n",
       "</div>"
      ],
      "text/plain": [
       "        Id   ProductId          UserId   ProfileName  HelpfulnessNumerator  \\\n",
       "1956  1244  B00002Z754  A3B8RCEI0FXFI6     B G Chase                    10   \n",
       "1957  1245  B00002Z754  A29Z5PI9BW2PU3        Robbie                     7   \n",
       "1895  1161  B000084E1U  A3DH85EYHW4AQH  Eric Hochman                     1   \n",
       "948   6386  B000084EK9  A1Z54EM24Y40LL            c2                     0   \n",
       "946   6376  B000084EKD  A1Z54EM24Y40LL            c2                     1   \n",
       "\n",
       "      HelpfulnessDenominator  Score        Time  \\\n",
       "1956                      10      1   962236800   \n",
       "1957                       7      1   961718400   \n",
       "1895                       1      1  1140739200   \n",
       "948                        0      0  1090972800   \n",
       "946                        1      0  1090972800   \n",
       "\n",
       "                             Summary  \\\n",
       "1956  WOW Make your own 'slickers' !   \n",
       "1957                   Great Product   \n",
       "1895                   Cats love it!   \n",
       "948               This stuff is bad!   \n",
       "946                   Needs improved   \n",
       "\n",
       "                                                   Text  \\\n",
       "1956  I just received my shipment and could hardly w...   \n",
       "1957  This was a really good idea and the final prod...   \n",
       "1895  I have nine cats and they are crazy about thes...   \n",
       "948   I honestly have to say that I just won't buy t...   \n",
       "946   I haven't had a cat yet that liked this one.  ...   \n",
       "\n",
       "                                            CleanedText  \n",
       "1956  receiv shipment could hard wait tri product lo...  \n",
       "1957  realli good idea final product outstand use de...  \n",
       "1895  nine cat crazi kibbl last thing want cat food ...  \n",
       "948   honest say wont buy varieti look bad smell bad...  \n",
       "946   havent cat yet like one littl interest think s...  "
      ]
     },
     "execution_count": 13,
     "metadata": {},
     "output_type": "execute_result"
    }
   ],
   "source": [
    "final.head()"
   ]
  },
  {
   "cell_type": "code",
   "execution_count": 14,
   "metadata": {},
   "outputs": [],
   "source": [
    "if os.path.isfile('C:/Users/Soham.Dutta/AAIC/Amazon reviews/database.sqlite'):\n",
    "    conn = sqlite3.connect('C:/Users/Soham.Dutta/AAIC/Amazon reviews/database.sqlite')\n",
    "    final = pd.read_sql_query(\"\"\" SELECT * FROM Reviews WHERE Score != 3 \"\"\", conn)\n",
    "    conn.close()\n",
    "else:\n",
    "    print(\"Please the above cell\")"
   ]
  },
  {
   "cell_type": "code",
   "execution_count": 15,
   "metadata": {},
   "outputs": [
    {
     "name": "stdout",
     "output_type": "stream",
     "text": [
      "the type of count vectorizer <class 'scipy.sparse.csr.csr_matrix'>\n",
      "the shape of out text BOW vectorizer  (1991, 5884)\n",
      "the number of unique words  5884\n"
     ]
    }
   ],
   "source": [
    "#BOW\n",
    "count_vect = CountVectorizer() #in scikit-learn\n",
    "final_counts = count_vect.fit_transform(final['CleanedText'].values)\n",
    "print(\"the type of count vectorizer\",type(final_counts))\n",
    "print(\"the shape of out text BOW vectorizer \",final_counts.get_shape())\n",
    "print(\"the number of unique words \", final_counts.get_shape()[1])\n",
    "\n",
    "with open('Bagofwords.pkl', 'wb') as f:\n",
    "    pickle.dump(final_counts, f)"
   ]
  },
  {
   "cell_type": "code",
   "execution_count": null,
   "metadata": {},
   "outputs": [],
   "source": [
    "with open('positive_words.pkl', 'rb') as f:\n",
    "    all_positive_words = pickle.load(f)\n",
    "with open('negitive_words.pkl', 'rb') as f:\n",
    "    all_negative_words = pickle.load(f)\n",
    "    \n",
    "    \n",
    "freq_dist_positive=nltk.FreqDist(all_positive_words)\n",
    "freq_dist_negative=nltk.FreqDist(all_negative_words)\n",
    "print(\"Most Common Positive Words : \",freq_dist_positive.most_common(20))\n",
    "print(\"Most Common Negative Words : \",freq_dist_negative.most_common(20))"
   ]
  },
  {
   "cell_type": "markdown",
   "metadata": {},
   "source": [
    "Monograms and BI-Grams\n"
   ]
  },
  {
   "cell_type": "code",
   "execution_count": null,
   "metadata": {},
   "outputs": [],
   "source": [
    "#Mono-gram and Bi-Gram\n",
    "\n",
    "count_vect = CountVectorizer(ngram_range=(1,2) ) #in scikit-learn\n",
    "final_bigram_counts = count_vect.fit_transform(final['CleanedText'].values)\n",
    "print(\"the type of count vectorizer \",type(final_bigram_counts))\n",
    "print(\"the shape of out text BOW vectorizer \",final_bigram_counts.get_shape())\n",
    "print(\"the number of unique words including both unigrams and bigrams \", final_bigram_counts.get_shape()[1])"
   ]
  },
  {
   "cell_type": "markdown",
   "metadata": {},
   "source": [
    "TF-IDF"
   ]
  },
  {
   "cell_type": "code",
   "execution_count": 21,
   "metadata": {},
   "outputs": [
    {
     "name": "stdout",
     "output_type": "stream",
     "text": [
      "the type of count vectorizer  <class 'scipy.sparse.csr.csr_matrix'>\n",
      "the shape of out text TFIDF vectorizer  (1991, 61125)\n",
      "the number of unique words including both unigrams and bigrams  61125\n"
     ]
    }
   ],
   "source": [
    "tf_idf_vect = TfidfVectorizer(ngram_range=(1,2))\n",
    "final_tf_idf = tf_idf_vect.fit_transform(final['CleanedText'].values)\n",
    "print(\"the type of count vectorizer \",type(final_tf_idf))\n",
    "print(\"the shape of out text TFIDF vectorizer \",final_tf_idf.get_shape())\n",
    "print(\"the number of unique words including both unigrams and bigrams \", final_tf_idf.get_shape()[1])\n",
    "with open('tfidf.pkl', 'wb') as f:\n",
    "    pickle.dump(final_tf_idf, f)\n"
   ]
  },
  {
   "cell_type": "code",
   "execution_count": 22,
   "metadata": {},
   "outputs": [
    {
     "name": "stdout",
     "output_type": "stream",
     "text": [
      "some sample features(unique words in the corpus) []\n"
     ]
    }
   ],
   "source": [
    "features = tf_idf_vect.get_feature_names()\n",
    "\n",
    "print(\"some sample features(unique words in the corpus)\",features[100000:100010])"
   ]
  },
  {
   "cell_type": "code",
   "execution_count": 23,
   "metadata": {},
   "outputs": [
    {
     "data": {
      "text/html": [
       "<div>\n",
       "<style scoped>\n",
       "    .dataframe tbody tr th:only-of-type {\n",
       "        vertical-align: middle;\n",
       "    }\n",
       "\n",
       "    .dataframe tbody tr th {\n",
       "        vertical-align: top;\n",
       "    }\n",
       "\n",
       "    .dataframe thead th {\n",
       "        text-align: right;\n",
       "    }\n",
       "</style>\n",
       "<table border=\"1\" class=\"dataframe\">\n",
       "  <thead>\n",
       "    <tr style=\"text-align: right;\">\n",
       "      <th></th>\n",
       "      <th>feature</th>\n",
       "      <th>tfidf</th>\n",
       "    </tr>\n",
       "  </thead>\n",
       "  <tbody>\n",
       "    <tr>\n",
       "      <th>0</th>\n",
       "      <td>decal</td>\n",
       "      <td>0.403309</td>\n",
       "    </tr>\n",
       "    <tr>\n",
       "      <th>1</th>\n",
       "      <td>outstand use</td>\n",
       "      <td>0.201654</td>\n",
       "    </tr>\n",
       "    <tr>\n",
       "      <th>2</th>\n",
       "      <td>bought decal</td>\n",
       "      <td>0.201654</td>\n",
       "    </tr>\n",
       "    <tr>\n",
       "      <th>3</th>\n",
       "      <td>idea final</td>\n",
       "      <td>0.201654</td>\n",
       "    </tr>\n",
       "    <tr>\n",
       "      <th>4</th>\n",
       "      <td>use decal</td>\n",
       "      <td>0.201654</td>\n",
       "    </tr>\n",
       "    <tr>\n",
       "      <th>5</th>\n",
       "      <td>ask bought</td>\n",
       "      <td>0.201654</td>\n",
       "    </tr>\n",
       "    <tr>\n",
       "      <th>6</th>\n",
       "      <td>decal made</td>\n",
       "      <td>0.201654</td>\n",
       "    </tr>\n",
       "    <tr>\n",
       "      <th>7</th>\n",
       "      <td>decal car</td>\n",
       "      <td>0.201654</td>\n",
       "    </tr>\n",
       "    <tr>\n",
       "      <th>8</th>\n",
       "      <td>product outstand</td>\n",
       "      <td>0.201654</td>\n",
       "    </tr>\n",
       "    <tr>\n",
       "      <th>9</th>\n",
       "      <td>everybodi ask</td>\n",
       "      <td>0.201654</td>\n",
       "    </tr>\n",
       "    <tr>\n",
       "      <th>10</th>\n",
       "      <td>two thumb</td>\n",
       "      <td>0.201654</td>\n",
       "    </tr>\n",
       "    <tr>\n",
       "      <th>11</th>\n",
       "      <td>window everybodi</td>\n",
       "      <td>0.201654</td>\n",
       "    </tr>\n",
       "    <tr>\n",
       "      <th>12</th>\n",
       "      <td>car window</td>\n",
       "      <td>0.191309</td>\n",
       "    </tr>\n",
       "    <tr>\n",
       "      <th>13</th>\n",
       "      <td>final product</td>\n",
       "      <td>0.191309</td>\n",
       "    </tr>\n",
       "    <tr>\n",
       "      <th>14</th>\n",
       "      <td>made two</td>\n",
       "      <td>0.191309</td>\n",
       "    </tr>\n",
       "    <tr>\n",
       "      <th>15</th>\n",
       "      <td>outstand</td>\n",
       "      <td>0.178276</td>\n",
       "    </tr>\n",
       "    <tr>\n",
       "      <th>16</th>\n",
       "      <td>thumb</td>\n",
       "      <td>0.173625</td>\n",
       "    </tr>\n",
       "    <tr>\n",
       "      <th>17</th>\n",
       "      <td>good idea</td>\n",
       "      <td>0.169692</td>\n",
       "    </tr>\n",
       "    <tr>\n",
       "      <th>18</th>\n",
       "      <td>everybodi</td>\n",
       "      <td>0.169692</td>\n",
       "    </tr>\n",
       "    <tr>\n",
       "      <th>19</th>\n",
       "      <td>car</td>\n",
       "      <td>0.163280</td>\n",
       "    </tr>\n",
       "    <tr>\n",
       "      <th>20</th>\n",
       "      <td>window</td>\n",
       "      <td>0.160592</td>\n",
       "    </tr>\n",
       "    <tr>\n",
       "      <th>21</th>\n",
       "      <td>realli good</td>\n",
       "      <td>0.131725</td>\n",
       "    </tr>\n",
       "    <tr>\n",
       "      <th>22</th>\n",
       "      <td>final</td>\n",
       "      <td>0.127910</td>\n",
       "    </tr>\n",
       "    <tr>\n",
       "      <th>23</th>\n",
       "      <td>ask</td>\n",
       "      <td>0.127211</td>\n",
       "    </tr>\n",
       "    <tr>\n",
       "      <th>24</th>\n",
       "      <td>idea</td>\n",
       "      <td>0.122790</td>\n",
       "    </tr>\n",
       "  </tbody>\n",
       "</table>\n",
       "</div>"
      ],
      "text/plain": [
       "             feature     tfidf\n",
       "0              decal  0.403309\n",
       "1       outstand use  0.201654\n",
       "2       bought decal  0.201654\n",
       "3         idea final  0.201654\n",
       "4          use decal  0.201654\n",
       "5         ask bought  0.201654\n",
       "6         decal made  0.201654\n",
       "7          decal car  0.201654\n",
       "8   product outstand  0.201654\n",
       "9      everybodi ask  0.201654\n",
       "10         two thumb  0.201654\n",
       "11  window everybodi  0.201654\n",
       "12        car window  0.191309\n",
       "13     final product  0.191309\n",
       "14          made two  0.191309\n",
       "15          outstand  0.178276\n",
       "16             thumb  0.173625\n",
       "17         good idea  0.169692\n",
       "18         everybodi  0.169692\n",
       "19               car  0.163280\n",
       "20            window  0.160592\n",
       "21       realli good  0.131725\n",
       "22             final  0.127910\n",
       "23               ask  0.127211\n",
       "24              idea  0.122790"
      ]
     },
     "execution_count": 23,
     "metadata": {},
     "output_type": "execute_result"
    }
   ],
   "source": [
    "def top_tfidf_feats(row, features, top_n=25):\n",
    "    ''' Get top n tfidf values in row and return them with their corresponding feature names.'''\n",
    "    topn_ids = np.argsort(row)[::-1][:top_n]\n",
    "    top_feats = [(features[i], row[i]) for i in topn_ids]\n",
    "    df = pd.DataFrame(top_feats)\n",
    "    df.columns = ['feature', 'tfidf']\n",
    "    return df\n",
    "\n",
    "top_tfidf = top_tfidf_feats(final_tf_idf[1,:].toarray()[0],features,25)\n",
    "top_tfidf"
   ]
  },
  {
   "cell_type": "markdown",
   "metadata": {},
   "source": [
    "Word2VEC"
   ]
  },
  {
   "cell_type": "code",
   "execution_count": 24,
   "metadata": {},
   "outputs": [
    {
     "name": "stdout",
     "output_type": "stream",
     "text": [
      "receiv shipment could hard wait tri product love call instead sticker remov easili daughter design sign print revers use car window print beauti print shop program go lot fun product window everywher surfac like screen comput monitor\n",
      "*****************************************************************\n",
      "['receiv', 'shipment', 'could', 'hard', 'wait', 'tri', 'product', 'love', 'call', 'instead', 'sticker', 'remov', 'easili', 'daughter', 'design', 'sign', 'print', 'revers', 'use', 'car', 'window', 'print', 'beauti', 'print', 'shop', 'program', 'go', 'lot', 'fun', 'product', 'window', 'everywher', 'surfac', 'like', 'screen', 'comput', 'monitor']\n"
     ]
    }
   ],
   "source": [
    "# Train your own Word2Vec model using your own text corpus\n",
    "i=0\n",
    "list_of_sent=[]\n",
    "for sent in final['CleanedText'].values:\n",
    "    list_of_sent.append(sent.split())\n",
    "print(final['CleanedText'].values[0])\n",
    "print(\"*****************************************************************\")\n",
    "print(list_of_sent[0])"
   ]
  },
  {
   "cell_type": "code",
   "execution_count": 25,
   "metadata": {},
   "outputs": [],
   "source": [
    "w2v_model=Word2Vec(list_of_sent,min_count=5,size=50, workers=4)\n"
   ]
  },
  {
   "cell_type": "code",
   "execution_count": 26,
   "metadata": {},
   "outputs": [
    {
     "name": "stdout",
     "output_type": "stream",
     "text": [
      "number of words that occured minimum 5 times  1968\n",
      "sample words  ['receiv', 'shipment', 'could', 'hard', 'wait', 'tri', 'product', 'love', 'call', 'instead', 'sticker', 'remov', 'easili', 'daughter', 'design', 'sign', 'print', 'use', 'car', 'window', 'beauti', 'shop', 'program', 'go', 'lot', 'fun', 'everywher', 'like', 'comput', 'realli', 'good', 'idea', 'final', 'everybodi', 'ask', 'bought', 'made', 'two', 'thumb', 'cat', 'crazi', 'kibbl', 'last', 'thing', 'want', 'food', 'hate', 'ill', 'buy', 'honest']\n"
     ]
    }
   ],
   "source": [
    "w2v_words = list(w2v_model.wv.vocab)\n",
    "print(\"number of words that occured minimum 5 times \",len(w2v_words))\n",
    "print(\"sample words \", w2v_words[0:50])"
   ]
  },
  {
   "cell_type": "code",
   "execution_count": 27,
   "metadata": {},
   "outputs": [
    {
     "data": {
      "text/plain": [
       "1968"
      ]
     },
     "execution_count": 27,
     "metadata": {},
     "output_type": "execute_result"
    }
   ],
   "source": [
    "len(w2v_words)"
   ]
  },
  {
   "cell_type": "code",
   "execution_count": null,
   "metadata": {},
   "outputs": [],
   "source": [
    "w2v_model.wv.most_similar('tasti')"
   ]
  },
  {
   "cell_type": "code",
   "execution_count": 28,
   "metadata": {},
   "outputs": [
    {
     "name": "stderr",
     "output_type": "stream",
     "text": [
      "100%|██████████| 1991/1991 [00:01<00:00, 1847.20it/s]\n"
     ]
    },
    {
     "name": "stdout",
     "output_type": "stream",
     "text": [
      "1991\n",
      "50\n"
     ]
    }
   ],
   "source": [
    "# average Word2Vec\n",
    "# compute average word2vec for each review.\n",
    "sent_vectors = []; # the avg-w2v for each sentence/review is stored in this list\n",
    "for sent in tqdm(list_of_sent): # for each review/sentence\n",
    "    sent_vec = np.zeros(50) # as word vectors are of zero length\n",
    "    cnt_words =0; # num of words with a valid vector in the sentence/review\n",
    "    for word in sent: # for each word in a review/sentence\n",
    "        if word in w2v_words:\n",
    "            vec = w2v_model.wv[word]\n",
    "            sent_vec += vec\n",
    "            cnt_words += 1\n",
    "    if cnt_words != 0:\n",
    "        sent_vec /= cnt_words\n",
    "    sent_vectors.append(sent_vec)\n",
    "print(len(sent_vectors))\n",
    "print(len(sent_vectors[0]))"
   ]
  },
  {
   "cell_type": "code",
   "execution_count": 29,
   "metadata": {},
   "outputs": [],
   "source": [
    "with open('AverageW2V.pkl', 'wb') as f:\n",
    "    pickle.dump(sent_vectors, f)\n"
   ]
  },
  {
   "cell_type": "code",
   "execution_count": 33,
   "metadata": {},
   "outputs": [],
   "source": [
    "# S = [\"abc def pqr\", \"def def def abc\", \"pqr pqr def\"]\n",
    "model = TfidfVectorizer()\n",
    "tf_idf_matrix = model.fit_transform(final['CleanedText'].values)\n",
    "# we are converting a dictionary with word as a key, and the idf as a value\n",
    "dictionary = dict(zip(model.get_feature_names(), list(model.idf_)))"
   ]
  },
  {
   "cell_type": "code",
   "execution_count": 34,
   "metadata": {},
   "outputs": [
    {
     "name": "stderr",
     "output_type": "stream",
     "text": [
      "100%|██████████| 1991/1991 [00:01<00:00, 1225.52it/s]\n"
     ]
    }
   ],
   "source": [
    "# TF-IDF weighted Word2Vec\n",
    "tfidf_feat = model.get_feature_names() # tfidf words/col-names\n",
    "# final_tf_idf is the sparse matrix with row= sentence, col=word and cell_val = tfidf\n",
    "\n",
    "tfidf_sent_vectors = []; # the tfidf-w2v for each sentence/review is stored in this list\n",
    "row=0;\n",
    "for sent in tqdm(list_of_sent): # for each review/sentence \n",
    "    sent_vec = np.zeros(50) # as word vectors are of zero length\n",
    "    weight_sum =0; # num of words with a valid vector in the sentence/review\n",
    "    for word in sent: # for each word in a review/sentence\n",
    "        if word in w2v_words:\n",
    "            vec = w2v_model.wv[word]\n",
    "#             tf_idf = tf_idf_matrix[row, tfidf_feat.index(word)]\n",
    "            # to reduce the computation we are \n",
    "            # dictionary[word] = idf value of word in whole courpus\n",
    "            # sent.count(word) = tf valeus of word in this review\n",
    "            tf_idf = dictionary[word]*(sent.count(word)/len(sent))\n",
    "            sent_vec += (vec * tf_idf)\n",
    "            weight_sum += tf_idf\n",
    "    if weight_sum != 0:\n",
    "        sent_vec /= weight_sum\n",
    "    tfidf_sent_vectors.append(sent_vec)\n",
    "    row += 1"
   ]
  },
  {
   "cell_type": "markdown",
   "metadata": {},
   "source": [
    "Now we will apply TSNE on Four methodlogies i.e BOW,TFDF,AverageWordtovector,WeightedTFIDF"
   ]
  },
  {
   "cell_type": "code",
   "execution_count": null,
   "metadata": {},
   "outputs": [],
   "source": [
    "with open('weightedTFIDF.pkl', 'wb') as f:\n",
    "    pickle.dump(tfidf_sent_vectors, f)\n"
   ]
  },
  {
   "cell_type": "code",
   "execution_count": 61,
   "metadata": {},
   "outputs": [],
   "source": [
    "#Applying TSNE on BOW\n",
    "#BOW\n",
    "with open('Bagofwords.pkl', 'rb') as f:\n",
    "    final_counts = pickle.load(f)\n"
   ]
  },
  {
   "cell_type": "code",
   "execution_count": 17,
   "metadata": {},
   "outputs": [
    {
     "data": {
      "text/plain": [
       "1    998\n",
       "0    993\n",
       "Name: Score, dtype: int64"
      ]
     },
     "execution_count": 17,
     "metadata": {},
     "output_type": "execute_result"
    }
   ],
   "source": [
    "from scipy.sparse import csr_matrix\n",
    "import scipy as sp\n",
    "\n",
    "score=(final[\"Score\"])\n",
    "len(score)\n",
    "\n",
    "score.value_counts()\n",
    "\n"
   ]
  },
  {
   "cell_type": "code",
   "execution_count": 67,
   "metadata": {},
   "outputs": [],
   "source": [
    "from sklearn.manifold import TSNE\n",
    "\n",
    "#labels_1000=list(filtered_data[\"Score\"]).T\n",
    "model=TSNE(n_components=2,random_state=0,perplexity=100,n_iter=5000)\n",
    "tsne_data=model.fit_transform((final_counts).todense())\n"
   ]
  },
  {
   "cell_type": "code",
   "execution_count": 68,
   "metadata": {},
   "outputs": [
    {
     "data": {
      "text/plain": [
       "<seaborn.axisgrid.FacetGrid at 0x26bc265e198>"
      ]
     },
     "execution_count": 68,
     "metadata": {},
     "output_type": "execute_result"
    },
    {
     "data": {
      "image/png": "[encoded data removed]",
      "text/plain": [
       "<Figure size 483.875x432 with 1 Axes>"
      ]
     },
     "metadata": {},
     "output_type": "display_data"
    }
   ],
   "source": [
    "BOW_merge=np.vstack(( tsne_data.T, (score).T )).T\n",
    "\n",
    "import seaborn as sn\n",
    "tsne_df=pd.DataFrame(data=BOW_merge,columns=(\"Dim1\",\"Dim2\",\"label\"))\n",
    "sn.FacetGrid(tsne_df,hue=\"label\",palette=\"Set1\",size=6).map(plt.scatter,\"Dim1\",\"Dim2\").add_legend()"
   ]
  },
  {
   "cell_type": "markdown",
   "metadata": {},
   "source": [
    "Ran TSNE with 2000 datapoints each of positive and negative . So as we can see nothing can be distinguished using BOW methods "
   ]
  },
  {
   "cell_type": "code",
   "execution_count": 18,
   "metadata": {},
   "outputs": [],
   "source": [
    "#using TF-IDF method\n",
    "with open('tfidf.pkl', 'rb') as f:\n",
    "    final_tf_idf=pickle.load(f)"
   ]
  },
  {
   "cell_type": "code",
   "execution_count": 19,
   "metadata": {},
   "outputs": [],
   "source": [
    "from sklearn.manifold import TSNE\n",
    "\n",
    "#labels_1000=list(filtered_data[\"Score\"]).T\n",
    "model=TSNE(n_components=2,random_state=0,perplexity=100,n_iter=5000)\n",
    "tsne_data=model.fit_transform((final_tf_idf).todense())\n"
   ]
  },
  {
   "cell_type": "code",
   "execution_count": 20,
   "metadata": {},
   "outputs": [
    {
     "data": {
      "text/plain": [
       "<seaborn.axisgrid.FacetGrid at 0x2aa9b6f2d68>"
      ]
     },
     "execution_count": 20,
     "metadata": {},
     "output_type": "execute_result"
    },
    {
     "data": {
      "image/png": "[encoded data removed]",
      "text/plain": [
       "<Figure size 483.875x432 with 1 Axes>"
      ]
     },
     "metadata": {},
     "output_type": "display_data"
    }
   ],
   "source": [
    "tfidf_merge=np.vstack(( tsne_data.T, (score).T )).T\n",
    "\n",
    "import seaborn as sn\n",
    "tsne_df=pd.DataFrame(data=tfidf_merge,columns=(\"Dim1\",\"Dim2\",\"label\"))\n",
    "sn.FacetGrid(tsne_df,hue=\"label\",palette=\"Set1\",size=6).map(plt.scatter,\"Dim1\",\"Dim2\").add_legend()"
   ]
  },
  {
   "cell_type": "markdown",
   "metadata": {},
   "source": [
    "Results are much btter than TSNE.Still not satisfactory"
   ]
  },
  {
   "cell_type": "code",
   "execution_count": 31,
   "metadata": {},
   "outputs": [],
   "source": [
    "#AvgW2v\n",
    "from sklearn.manifold import TSNE\n",
    "\n",
    "#labels_1000=list(filtered_data[\"Score\"]).T\n",
    "model=TSNE(n_components=2,random_state=0,perplexity=100,n_iter=5000)\n",
    "tsne_data=model.fit_transform((sent_vectors))\n"
   ]
  },
  {
   "cell_type": "code",
   "execution_count": 32,
   "metadata": {},
   "outputs": [
    {
     "data": {
      "text/plain": [
       "<seaborn.axisgrid.FacetGrid at 0x2aaa070c320>"
      ]
     },
     "execution_count": 32,
     "metadata": {},
     "output_type": "execute_result"
    },
    {
     "data": {
      "image/png": "[encoded data removed]",
      "text/plain": [
       "<Figure size 483.875x432 with 1 Axes>"
      ]
     },
     "metadata": {},
     "output_type": "display_data"
    }
   ],
   "source": [
    "avgW2V_merge=np.vstack(( tsne_data.T, (score).T )).T\n",
    "\n",
    "import seaborn as sn\n",
    "tsne_df=pd.DataFrame(data=avgW2V_merge,columns=(\"Dim1\",\"Dim2\",\"label\"))\n",
    "sn.FacetGrid(tsne_df,hue=\"label\",palette=\"Set1\",size=6).map(plt.scatter,\"Dim1\",\"Dim2\").add_legend()"
   ]
  },
  {
   "cell_type": "markdown",
   "metadata": {},
   "source": [
    "No inference can be made\n"
   ]
  },
  {
   "cell_type": "code",
   "execution_count": 36,
   "metadata": {},
   "outputs": [],
   "source": [
    "#weightedTF-IDF\n",
    "#labels_1000=list(filtered_data[\"Score\"]).T\n",
    "model=TSNE(n_components=2,random_state=0,perplexity=100,n_iter=5000)\n",
    "tsne_data=model.fit_transform((tfidf_sent_vectors))\n"
   ]
  },
  {
   "cell_type": "code",
   "execution_count": 37,
   "metadata": {},
   "outputs": [
    {
     "data": {
      "text/plain": [
       "<seaborn.axisgrid.FacetGrid at 0x2aa9482e320>"
      ]
     },
     "execution_count": 37,
     "metadata": {},
     "output_type": "execute_result"
    },
    {
     "data": {
      "image/png": "[encoded data removed]",
      "text/plain": [
       "<Figure size 483.875x432 with 1 Axes>"
      ]
     },
     "metadata": {},
     "output_type": "display_data"
    }
   ],
   "source": [
    "TFIDFWT_merge=np.vstack(( tsne_data.T, (score).T )).T\n",
    "\n",
    "import seaborn as sn\n",
    "tsne_df=pd.DataFrame(data=TFIDFWT_merge,columns=(\"Dim1\",\"Dim2\",\"label\"))\n",
    "sn.FacetGrid(tsne_df,hue=\"label\",palette=\"Set1\",size=6).map(plt.scatter,\"Dim1\",\"Dim2\").add_legend()"
   ]
  },
  {
   "cell_type": "markdown",
   "metadata": {},
   "source": [
    "Hence from the above figures we can infer that TSNE is unable to separate between positive and negative reviews.\n",
    "Only 2000 datapoints have been taken\n"
   ]
  }
 ],
 "metadata": {
  "kernelspec": {
   "display_name": "Python 3",
   "language": "python",
   "name": "python3"
  },
  "language_info": {
   "codemirror_mode": {
    "name": "ipython",
    "version": 3
   },
   "file_extension": ".py",
   "mimetype": "text/x-python",
   "name": "python",
   "nbconvert_exporter": "python",
   "pygments_lexer": "ipython3",
   "version": "3.6.5"
  }
 },
 "nbformat": 4,
 "nbformat_minor": 2
}
